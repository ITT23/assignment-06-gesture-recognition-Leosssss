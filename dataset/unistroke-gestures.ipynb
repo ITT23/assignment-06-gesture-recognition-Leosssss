{
 "cells": [
  {
   "cell_type": "code",
   "execution_count": 1,
   "id": "72656cae-6f7f-4594-b5ff-654d53b08ab8",
   "metadata": {
    "tags": []
   },
   "outputs": [],
   "source": [
    "from matplotlib import pyplot as plt\n",
    "import numpy as np\n",
    "import os\n",
    "import random\n",
    "\n",
    "os.environ['TF_CPP_MIN_LOG_LEVEL'] = '2'\n",
    "\n",
    "# import a lot of things from keras:\n",
    "# sequential model\n",
    "from keras.models import Sequential\n",
    "\n",
    "# layers\n",
    "from keras.layers import Input, Dense, LSTM\n",
    "\n",
    "# loss function\n",
    "from keras.metrics import categorical_crossentropy\n",
    "\n",
    "# callback functions\n",
    "from keras.callbacks import ReduceLROnPlateau, EarlyStopping\n",
    "\n",
    "# convert data to categorial vector representation\n",
    "from keras.utils import to_categorical\n",
    "\n",
    "# nice progress bar for loading data\n",
    "from tqdm.notebook import tqdm\n",
    "\n",
    "# helper function for train/test split\n",
    "from sklearn.model_selection import train_test_split\n",
    "\n",
    "# import confusion matrix helper function\n",
    "from sklearn.metrics import confusion_matrix, ConfusionMatrixDisplay\n",
    "\n",
    "# resample signal to n samples\n",
    "from scipy.signal import resample\n",
    "\n",
    "# XML parser\n",
    "import xml.etree.ElementTree as ET\n",
    "\n",
    "# encoding and normalizing data\n",
    "from sklearn.preprocessing import LabelEncoder, StandardScaler\n",
    "\n",
    "NUM_POINTS = 50"
   ]
  },
  {
   "cell_type": "code",
   "execution_count": 2,
   "id": "97630d97-e864-4b48-b8f7-4cfdead22ea2",
   "metadata": {
    "tags": []
   },
   "outputs": [
    {
     "data": {
      "application/vnd.jupyter.widget-view+json": {
       "model_id": "47df1444301f4704acde21d35b3707fb",
       "version_major": 2,
       "version_minor": 0
      },
      "text/plain": [
       "  0%|          | 0/157 [00:00<?, ?it/s]"
      ]
     },
     "metadata": {},
     "output_type": "display_data"
    },
    {
     "data": {
      "application/vnd.jupyter.widget-view+json": {
       "model_id": "9f91608405bb4a45802a965e3e2fe95e",
       "version_major": 2,
       "version_minor": 0
      },
      "text/plain": [
       "  0%|          | 0/160 [00:00<?, ?it/s]"
      ]
     },
     "metadata": {},
     "output_type": "display_data"
    },
    {
     "data": {
      "application/vnd.jupyter.widget-view+json": {
       "model_id": "be2057a9255841d9a3b6587841cfbf96",
       "version_major": 2,
       "version_minor": 0
      },
      "text/plain": [
       "  0%|          | 0/160 [00:00<?, ?it/s]"
      ]
     },
     "metadata": {},
     "output_type": "display_data"
    },
    {
     "data": {
      "application/vnd.jupyter.widget-view+json": {
       "model_id": "25736905a86140aa85c56cf4fcd9c1c4",
       "version_major": 2,
       "version_minor": 0
      },
      "text/plain": [
       "  0%|          | 0/160 [00:00<?, ?it/s]"
      ]
     },
     "metadata": {},
     "output_type": "display_data"
    },
    {
     "data": {
      "application/vnd.jupyter.widget-view+json": {
       "model_id": "94ce9906aad7497c81bd00ae0c32d753",
       "version_major": 2,
       "version_minor": 0
      },
      "text/plain": [
       "  0%|          | 0/160 [00:00<?, ?it/s]"
      ]
     },
     "metadata": {},
     "output_type": "display_data"
    },
    {
     "data": {
      "application/vnd.jupyter.widget-view+json": {
       "model_id": "2a6c2daeb6584fe58b48ad3ea4e7c05e",
       "version_major": 2,
       "version_minor": 0
      },
      "text/plain": [
       "  0%|          | 0/160 [00:00<?, ?it/s]"
      ]
     },
     "metadata": {},
     "output_type": "display_data"
    },
    {
     "data": {
      "application/vnd.jupyter.widget-view+json": {
       "model_id": "904afd79e912461c9cc6b7bd245756fb",
       "version_major": 2,
       "version_minor": 0
      },
      "text/plain": [
       "  0%|          | 0/160 [00:00<?, ?it/s]"
      ]
     },
     "metadata": {},
     "output_type": "display_data"
    },
    {
     "data": {
      "application/vnd.jupyter.widget-view+json": {
       "model_id": "bf4e406e24f94eb0a707fcf593227fc0",
       "version_major": 2,
       "version_minor": 0
      },
      "text/plain": [
       "  0%|          | 0/160 [00:00<?, ?it/s]"
      ]
     },
     "metadata": {},
     "output_type": "display_data"
    },
    {
     "data": {
      "application/vnd.jupyter.widget-view+json": {
       "model_id": "6978966f1a194d1aa8a1b9905d712d34",
       "version_major": 2,
       "version_minor": 0
      },
      "text/plain": [
       "  0%|          | 0/160 [00:00<?, ?it/s]"
      ]
     },
     "metadata": {},
     "output_type": "display_data"
    },
    {
     "data": {
      "application/vnd.jupyter.widget-view+json": {
       "model_id": "44ce2822ecbb432bb39ea9e6f98f2a79",
       "version_major": 2,
       "version_minor": 0
      },
      "text/plain": [
       "  0%|          | 0/160 [00:00<?, ?it/s]"
      ]
     },
     "metadata": {},
     "output_type": "display_data"
    },
    {
     "data": {
      "application/vnd.jupyter.widget-view+json": {
       "model_id": "edbd6a9cee794c6abe47e11fcfe6bacf",
       "version_major": 2,
       "version_minor": 0
      },
      "text/plain": [
       "  0%|          | 0/160 [00:00<?, ?it/s]"
      ]
     },
     "metadata": {},
     "output_type": "display_data"
    },
    {
     "data": {
      "application/vnd.jupyter.widget-view+json": {
       "model_id": "59a74eae46b84e398d000f936648b345",
       "version_major": 2,
       "version_minor": 0
      },
      "text/plain": [
       "  0%|          | 0/160 [00:00<?, ?it/s]"
      ]
     },
     "metadata": {},
     "output_type": "display_data"
    },
    {
     "data": {
      "application/vnd.jupyter.widget-view+json": {
       "model_id": "80dca041bc284d5fa344898bf98ccd55",
       "version_major": 2,
       "version_minor": 0
      },
      "text/plain": [
       "  0%|          | 0/160 [00:00<?, ?it/s]"
      ]
     },
     "metadata": {},
     "output_type": "display_data"
    },
    {
     "data": {
      "application/vnd.jupyter.widget-view+json": {
       "model_id": "1d39c02ac4a34a80a57df7aebb443011",
       "version_major": 2,
       "version_minor": 0
      },
      "text/plain": [
       "  0%|          | 0/160 [00:00<?, ?it/s]"
      ]
     },
     "metadata": {},
     "output_type": "display_data"
    },
    {
     "data": {
      "application/vnd.jupyter.widget-view+json": {
       "model_id": "b0c9a49b0b5e4da8aa6c8483d5cd9bbc",
       "version_major": 2,
       "version_minor": 0
      },
      "text/plain": [
       "  0%|          | 0/160 [00:00<?, ?it/s]"
      ]
     },
     "metadata": {},
     "output_type": "display_data"
    },
    {
     "data": {
      "application/vnd.jupyter.widget-view+json": {
       "model_id": "c002808dee5f4a88b1a96744e7eacee4",
       "version_major": 2,
       "version_minor": 0
      },
      "text/plain": [
       "  0%|          | 0/160 [00:00<?, ?it/s]"
      ]
     },
     "metadata": {},
     "output_type": "display_data"
    },
    {
     "data": {
      "application/vnd.jupyter.widget-view+json": {
       "model_id": "fb28c26b596a4270a6d4c55df42259ca",
       "version_major": 2,
       "version_minor": 0
      },
      "text/plain": [
       "  0%|          | 0/160 [00:00<?, ?it/s]"
      ]
     },
     "metadata": {},
     "output_type": "display_data"
    },
    {
     "data": {
      "application/vnd.jupyter.widget-view+json": {
       "model_id": "d105278bea12428fbfc4ae0e1ac8714e",
       "version_major": 2,
       "version_minor": 0
      },
      "text/plain": [
       "  0%|          | 0/160 [00:00<?, ?it/s]"
      ]
     },
     "metadata": {},
     "output_type": "display_data"
    },
    {
     "data": {
      "application/vnd.jupyter.widget-view+json": {
       "model_id": "cb0425908eca472189173926771cdaef",
       "version_major": 2,
       "version_minor": 0
      },
      "text/plain": [
       "  0%|          | 0/160 [00:00<?, ?it/s]"
      ]
     },
     "metadata": {},
     "output_type": "display_data"
    },
    {
     "data": {
      "application/vnd.jupyter.widget-view+json": {
       "model_id": "3a03590c715d4191bf43909d2bd15581",
       "version_major": 2,
       "version_minor": 0
      },
      "text/plain": [
       "  0%|          | 0/160 [00:00<?, ?it/s]"
      ]
     },
     "metadata": {},
     "output_type": "display_data"
    },
    {
     "data": {
      "application/vnd.jupyter.widget-view+json": {
       "model_id": "ada78b6152614c528da0558707ef01a0",
       "version_major": 2,
       "version_minor": 0
      },
      "text/plain": [
       "  0%|          | 0/160 [00:00<?, ?it/s]"
      ]
     },
     "metadata": {},
     "output_type": "display_data"
    },
    {
     "data": {
      "application/vnd.jupyter.widget-view+json": {
       "model_id": "0568be16e6a34a25ac0c72e3cd48605e",
       "version_major": 2,
       "version_minor": 0
      },
      "text/plain": [
       "  0%|          | 0/160 [00:00<?, ?it/s]"
      ]
     },
     "metadata": {},
     "output_type": "display_data"
    },
    {
     "data": {
      "application/vnd.jupyter.widget-view+json": {
       "model_id": "4c12a251c84c4282a9c19c8d6a38f4c9",
       "version_major": 2,
       "version_minor": 0
      },
      "text/plain": [
       "  0%|          | 0/160 [00:00<?, ?it/s]"
      ]
     },
     "metadata": {},
     "output_type": "display_data"
    },
    {
     "data": {
      "application/vnd.jupyter.widget-view+json": {
       "model_id": "9860861818684c3585576d67becdb895",
       "version_major": 2,
       "version_minor": 0
      },
      "text/plain": [
       "  0%|          | 0/160 [00:00<?, ?it/s]"
      ]
     },
     "metadata": {},
     "output_type": "display_data"
    }
   ],
   "source": [
    "train_data = []\n",
    "\n",
    "for root, subdirs, files in os.walk('train'):\n",
    "    if 'ipynb_checkpoint' in root:\n",
    "        continue\n",
    "    \n",
    "    if len(files) > 0:\n",
    "        for f in tqdm(files):\n",
    "            if '.xml' in f:\n",
    "                fname = f.split('.')[0]\n",
    "                label = fname[:-2]\n",
    "                \n",
    "                xml_root = ET.parse(f'{root}/{f}').getroot()\n",
    "                \n",
    "                points = []\n",
    "                for element in xml_root.findall('Point'):\n",
    "                    x = element.get('X')\n",
    "                    y = element.get('Y')\n",
    "                    points.append([x, y])\n",
    "                    \n",
    "                points = np.array(points, dtype=float)\n",
    "                \n",
    "                scaler = StandardScaler()\n",
    "                points = scaler.fit_transform(points)\n",
    "                \n",
    "                resampled = resample(points, NUM_POINTS)\n",
    "                \n",
    "                train_data.append((label, resampled))"
   ]
  },
  {
   "cell_type": "code",
   "execution_count": 3,
   "id": "6f7cd824",
   "metadata": {},
   "outputs": [
    {
     "data": {
      "application/vnd.jupyter.widget-view+json": {
       "model_id": "ee22a82e216c4c019149bfa4351d7999",
       "version_major": 2,
       "version_minor": 0
      },
      "text/plain": [
       "  0%|          | 0/160 [00:00<?, ?it/s]"
      ]
     },
     "metadata": {},
     "output_type": "display_data"
    },
    {
     "data": {
      "application/vnd.jupyter.widget-view+json": {
       "model_id": "1f988d5233924437b234d68c335d9ed8",
       "version_major": 2,
       "version_minor": 0
      },
      "text/plain": [
       "  0%|          | 0/160 [00:00<?, ?it/s]"
      ]
     },
     "metadata": {},
     "output_type": "display_data"
    },
    {
     "data": {
      "application/vnd.jupyter.widget-view+json": {
       "model_id": "69b37cc923a444fcbb78e65a321d1d48",
       "version_major": 2,
       "version_minor": 0
      },
      "text/plain": [
       "  0%|          | 0/160 [00:00<?, ?it/s]"
      ]
     },
     "metadata": {},
     "output_type": "display_data"
    },
    {
     "data": {
      "application/vnd.jupyter.widget-view+json": {
       "model_id": "751c1e4e579348dd802bcbee21de68fe",
       "version_major": 2,
       "version_minor": 0
      },
      "text/plain": [
       "  0%|          | 0/160 [00:00<?, ?it/s]"
      ]
     },
     "metadata": {},
     "output_type": "display_data"
    },
    {
     "data": {
      "application/vnd.jupyter.widget-view+json": {
       "model_id": "f6b01a58c9dd4dce9addb9f71f7171df",
       "version_major": 2,
       "version_minor": 0
      },
      "text/plain": [
       "  0%|          | 0/160 [00:00<?, ?it/s]"
      ]
     },
     "metadata": {},
     "output_type": "display_data"
    },
    {
     "data": {
      "application/vnd.jupyter.widget-view+json": {
       "model_id": "44963448a33d41f8be074632ed5cb72c",
       "version_major": 2,
       "version_minor": 0
      },
      "text/plain": [
       "  0%|          | 0/160 [00:00<?, ?it/s]"
      ]
     },
     "metadata": {},
     "output_type": "display_data"
    },
    {
     "data": {
      "application/vnd.jupyter.widget-view+json": {
       "model_id": "0b71262d1b2147699462602d8709f615",
       "version_major": 2,
       "version_minor": 0
      },
      "text/plain": [
       "  0%|          | 0/160 [00:00<?, ?it/s]"
      ]
     },
     "metadata": {},
     "output_type": "display_data"
    },
    {
     "data": {
      "application/vnd.jupyter.widget-view+json": {
       "model_id": "afffe704882141aa8f46b80503e3b384",
       "version_major": 2,
       "version_minor": 0
      },
      "text/plain": [
       "  0%|          | 0/160 [00:00<?, ?it/s]"
      ]
     },
     "metadata": {},
     "output_type": "display_data"
    },
    {
     "data": {
      "application/vnd.jupyter.widget-view+json": {
       "model_id": "062722bf6a224caaac6d654538cee537",
       "version_major": 2,
       "version_minor": 0
      },
      "text/plain": [
       "  0%|          | 0/160 [00:00<?, ?it/s]"
      ]
     },
     "metadata": {},
     "output_type": "display_data"
    }
   ],
   "source": [
    "test_data = []\n",
    "\n",
    "for root, subdirs, files in os.walk('test'):\n",
    "    if 'ipynb_checkpoint' in root:\n",
    "        continue\n",
    "    \n",
    "    if len(files) > 0:\n",
    "        for f in tqdm(files):\n",
    "            if '.xml' in f:\n",
    "                fname = f.split('.')[0]\n",
    "                label = fname[:-2]\n",
    "                \n",
    "                xml_root = ET.parse(f'{root}/{f}').getroot()\n",
    "                \n",
    "                points = []\n",
    "                for element in xml_root.findall('Point'):\n",
    "                    x = element.get('X')\n",
    "                    y = element.get('Y')\n",
    "                    points.append([x, y])\n",
    "                    \n",
    "                points = np.array(points, dtype=float)\n",
    "                \n",
    "                scaler = StandardScaler()\n",
    "                points = scaler.fit_transform(points)\n",
    "                \n",
    "                resampled = resample(points, NUM_POINTS)\n",
    "                \n",
    "                test_data.append((label, resampled))"
   ]
  },
  {
   "cell_type": "code",
   "execution_count": 4,
   "id": "87050294-30b5-48a8-b89c-993d4a69bf57",
   "metadata": {
    "tags": []
   },
   "outputs": [
    {
     "name": "stdout",
     "output_type": "stream",
     "text": [
      "('arrow', array([[-1.92962181,  1.98472317],\n",
      "       [-2.08909504,  2.01519254],\n",
      "       [-1.977915  ,  1.93380714],\n",
      "       [-1.89266034,  1.83253328],\n",
      "       [-1.79224377,  1.74529564],\n",
      "       [-1.71172043,  1.62713002],\n",
      "       [-1.52922487,  1.47180348],\n",
      "       [-1.38360778,  1.32150113],\n",
      "       [-1.11811431,  1.087088  ],\n",
      "       [-0.94785114,  0.93369177],\n",
      "       [-0.82791042,  0.78400149],\n",
      "       [-0.57433998,  0.54433185],\n",
      "       [-0.32621618,  0.29756636],\n",
      "       [-0.06329263,  0.06076073],\n",
      "       [ 0.15399735, -0.22433129],\n",
      "       [ 0.38994471, -0.42376626],\n",
      "       [ 0.49624023, -0.51421433],\n",
      "       [ 0.6742036 , -0.70878699],\n",
      "       [ 0.79321166, -0.76902574],\n",
      "       [ 0.94300431, -0.92489224],\n",
      "       [ 0.97931841, -0.94629585],\n",
      "       [ 1.05465631, -0.96783279],\n",
      "       [ 0.9389439 , -0.88307566],\n",
      "       [ 0.85807146, -0.77397219],\n",
      "       [ 0.5798533 , -0.66685564],\n",
      "       [ 0.3421663 , -0.54295617],\n",
      "       [ 0.14537994, -0.48947048],\n",
      "       [ 0.03969544, -0.46827503],\n",
      "       [-0.19682606, -0.41754018],\n",
      "       [-0.31571394, -0.39155589],\n",
      "       [-0.55268152, -0.32114567],\n",
      "       [-0.51336909, -0.39029965],\n",
      "       [-0.56641378, -0.42839729],\n",
      "       [-0.26320655, -0.53898723],\n",
      "       [-0.22163673, -0.57110172],\n",
      "       [ 0.22583079, -0.76255831],\n",
      "       [ 0.45106268, -0.79374789],\n",
      "       [ 0.7094015 , -0.96608344],\n",
      "       [ 1.10509082, -1.1781475 ],\n",
      "       [ 1.32782891, -1.33083413],\n",
      "       [ 1.37744333, -1.3454573 ],\n",
      "       [ 1.49875287, -1.34027428],\n",
      "       [ 1.33272101, -1.0347082 ],\n",
      "       [ 1.10894587, -0.51229638],\n",
      "       [ 0.8124133 ,  0.00651793],\n",
      "       [ 0.76993883,  0.25797656],\n",
      "       [ 0.5212415 ,  0.63785471],\n",
      "       [ 0.54683737,  0.79514345],\n",
      "       [ 0.2762495 ,  1.13447214],\n",
      "       [ 0.34121615,  1.15549436]]))\n"
     ]
    }
   ],
   "source": [
    "print(train_data[0])"
   ]
  },
  {
   "cell_type": "code",
   "execution_count": 5,
   "id": "2bc59f40-f122-47ae-bcb3-6fece5d9310e",
   "metadata": {
    "tags": []
   },
   "outputs": [
    {
     "name": "stdout",
     "output_type": "stream",
     "text": [
      "{'arrow', 'left_curly_brace', 'question_mark', 'triangle', 'x', 'right_sq_bracket', 'left_sq_bracket', 'caret', 'check', 'star', 'v', 'right_curly_brace', 'delete_mark', 'circle', 'rectangle', 'pigtail'}\n",
      "{0, 1, 2, 3, 4, 5, 6, 7, 8, 9, 10, 11, 12, 13, 14, 15}\n",
      "16\n",
      "(3069, 50, 2) (768, 50, 2) (3069, 16) (768, 16)\n"
     ]
    }
   ],
   "source": [
    "# Prepare the data\n",
    "labels = [sample[0] for sample in train_data]\n",
    "\n",
    "print(set(labels))\n",
    "\n",
    "encoder = LabelEncoder()\n",
    "labels_encoded = encoder.fit_transform(labels)\n",
    "\n",
    "print(set(labels_encoded))\n",
    "\n",
    "y = to_categorical(labels_encoded)\n",
    "\n",
    "print(len(y[0]))\n",
    "\n",
    "sequences = [sample[1] for sample in train_data]\n",
    "X = np.array(sequences)\n",
    "\n",
    "X_train, X_test, y_train, y_test = train_test_split(X, y, test_size=0.2, random_state=42)\n",
    "\n",
    "print(X_train.shape, X_test.shape, y_train.shape, y_test.shape)"
   ]
  },
  {
   "cell_type": "code",
   "execution_count": 6,
   "id": "a4241cf5-eb14-4792-9369-39c043846b04",
   "metadata": {
    "tags": []
   },
   "outputs": [],
   "source": [
    "def define_and_train_model(labels, X_train, X_test, y_train, y_test, units_parameter):\n",
    "    # Define the model\n",
    "    model = Sequential()\n",
    "\n",
    "    # add LSTM layer\n",
    "    # input shape is (length of an individual sample, dimensions of the sample)\n",
    "    # in our case: two dimensions, as we have X and Y coordinates\n",
    "    model.add(LSTM(units_parameter, input_shape=(NUM_POINTS, 2)))\n",
    "\n",
    "    # add dense layer to do machine learning magic\n",
    "    model.add(Dense(32, activation='relu'))\n",
    "\n",
    "    # here, you can add more layers and maybe a dropout for better performance\n",
    "\n",
    "    # softmax layer for classification\n",
    "    model.add(Dense(len(set(labels)), activation='softmax'))\n",
    "\n",
    "    # Compile the model\n",
    "    model.compile(loss='categorical_crossentropy', optimizer='adam', metrics=['accuracy'])\n",
    "\n",
    "    reduce_lr = ReduceLROnPlateau(monitor='val_loss', factor=0.2, patience=2, min_lr=0.0001)\n",
    "    stop_early = EarlyStopping(monitor='val_loss', patience=3)\n",
    "    \n",
    "    # Train the model\n",
    "    history = model.fit(\n",
    "        X_train,\n",
    "        y_train,\n",
    "        epochs=20,\n",
    "        batch_size=32,\n",
    "        validation_data=(X_test, y_test),\n",
    "        verbose=1,\n",
    "        callbacks=[reduce_lr, stop_early]\n",
    "    )\n",
    "    \n",
    "    model.summary()\n",
    "    return model, history"
   ]
  },
  {
   "cell_type": "code",
   "execution_count": 7,
   "id": "f9e0dae5",
   "metadata": {},
   "outputs": [
    {
     "name": "stdout",
     "output_type": "stream",
     "text": [
      "Epoch 1/20\n",
      "96/96 [==============================] - 8s 53ms/step - loss: 1.5296 - accuracy: 0.4923 - val_loss: 0.6233 - val_accuracy: 0.7904 - lr: 0.0010\n",
      "Epoch 2/20\n",
      "96/96 [==============================] - 5s 47ms/step - loss: 0.4223 - accuracy: 0.8710 - val_loss: 0.2717 - val_accuracy: 0.8984 - lr: 0.0010\n",
      "Epoch 3/20\n",
      "96/96 [==============================] - 4s 46ms/step - loss: 0.2081 - accuracy: 0.9273 - val_loss: 0.1315 - val_accuracy: 0.9570 - lr: 0.0010\n",
      "Epoch 4/20\n",
      "96/96 [==============================] - 4s 45ms/step - loss: 0.1878 - accuracy: 0.9378 - val_loss: 0.0828 - val_accuracy: 0.9844 - lr: 0.0010\n",
      "Epoch 5/20\n",
      "96/96 [==============================] - 4s 46ms/step - loss: 0.0943 - accuracy: 0.9746 - val_loss: 0.1348 - val_accuracy: 0.9518 - lr: 0.0010\n",
      "Epoch 6/20\n",
      "96/96 [==============================] - 6s 65ms/step - loss: 0.1062 - accuracy: 0.9677 - val_loss: 0.1076 - val_accuracy: 0.9740 - lr: 0.0010\n",
      "Epoch 7/20\n",
      "96/96 [==============================] - 5s 48ms/step - loss: 0.0468 - accuracy: 0.9906 - val_loss: 0.0296 - val_accuracy: 0.9948 - lr: 2.0000e-04\n",
      "Epoch 8/20\n",
      "96/96 [==============================] - 6s 59ms/step - loss: 0.0303 - accuracy: 0.9961 - val_loss: 0.0262 - val_accuracy: 0.9948 - lr: 2.0000e-04\n",
      "Epoch 9/20\n",
      "96/96 [==============================] - 6s 66ms/step - loss: 0.0272 - accuracy: 0.9951 - val_loss: 0.0260 - val_accuracy: 0.9948 - lr: 2.0000e-04\n",
      "Epoch 10/20\n",
      "96/96 [==============================] - 5s 50ms/step - loss: 0.0248 - accuracy: 0.9948 - val_loss: 0.0237 - val_accuracy: 0.9948 - lr: 2.0000e-04\n",
      "Epoch 11/20\n",
      "96/96 [==============================] - 6s 65ms/step - loss: 0.0235 - accuracy: 0.9948 - val_loss: 0.0265 - val_accuracy: 0.9922 - lr: 2.0000e-04\n",
      "Epoch 12/20\n",
      "96/96 [==============================] - 5s 47ms/step - loss: 0.0240 - accuracy: 0.9938 - val_loss: 0.0158 - val_accuracy: 0.9961 - lr: 2.0000e-04\n",
      "Epoch 13/20\n",
      "96/96 [==============================] - 5s 56ms/step - loss: 0.0222 - accuracy: 0.9958 - val_loss: 0.0165 - val_accuracy: 0.9948 - lr: 2.0000e-04\n",
      "Epoch 14/20\n",
      "96/96 [==============================] - 4s 44ms/step - loss: 0.0184 - accuracy: 0.9961 - val_loss: 0.0156 - val_accuracy: 0.9961 - lr: 2.0000e-04\n",
      "Epoch 15/20\n",
      "96/96 [==============================] - 4s 44ms/step - loss: 0.0215 - accuracy: 0.9951 - val_loss: 0.0150 - val_accuracy: 0.9948 - lr: 2.0000e-04\n",
      "Epoch 16/20\n",
      "96/96 [==============================] - 4s 46ms/step - loss: 0.0189 - accuracy: 0.9961 - val_loss: 0.0185 - val_accuracy: 0.9935 - lr: 2.0000e-04\n",
      "Epoch 17/20\n",
      "96/96 [==============================] - 4s 44ms/step - loss: 0.0209 - accuracy: 0.9941 - val_loss: 0.0166 - val_accuracy: 0.9974 - lr: 2.0000e-04\n",
      "Epoch 18/20\n",
      "96/96 [==============================] - 4s 42ms/step - loss: 0.0164 - accuracy: 0.9964 - val_loss: 0.0151 - val_accuracy: 0.9948 - lr: 1.0000e-04\n",
      "Model: \"sequential\"\n",
      "_________________________________________________________________\n",
      " Layer (type)                Output Shape              Param #   \n",
      "=================================================================\n",
      " lstm (LSTM)                 (None, 128)               67072     \n",
      "                                                                 \n",
      " dense (Dense)               (None, 32)                4128      \n",
      "                                                                 \n",
      " dense_1 (Dense)             (None, 16)                528       \n",
      "                                                                 \n",
      "=================================================================\n",
      "Total params: 71,728\n",
      "Trainable params: 71,728\n",
      "Non-trainable params: 0\n",
      "_________________________________________________________________\n"
     ]
    }
   ],
   "source": [
    "model_128_unit, history_128_unit = define_and_train_model(labels, X_train, X_test, y_train, y_test, 128)"
   ]
  },
  {
   "cell_type": "code",
   "execution_count": 8,
   "id": "550d636b",
   "metadata": {},
   "outputs": [
    {
     "name": "stdout",
     "output_type": "stream",
     "text": [
      "Epoch 1/20\n",
      "96/96 [==============================] - 6s 30ms/step - loss: 1.8356 - accuracy: 0.4444 - val_loss: 0.7971 - val_accuracy: 0.8294 - lr: 0.0010\n",
      "Epoch 2/20\n",
      "96/96 [==============================] - 2s 25ms/step - loss: 0.4750 - accuracy: 0.8853 - val_loss: 0.2598 - val_accuracy: 0.9219 - lr: 0.0010\n",
      "Epoch 3/20\n",
      "96/96 [==============================] - 2s 25ms/step - loss: 0.2181 - accuracy: 0.9394 - val_loss: 0.1444 - val_accuracy: 0.9635 - lr: 0.0010\n",
      "Epoch 4/20\n",
      "96/96 [==============================] - 2s 26ms/step - loss: 0.1312 - accuracy: 0.9684 - val_loss: 0.1151 - val_accuracy: 0.9609 - lr: 0.0010\n",
      "Epoch 5/20\n",
      "96/96 [==============================] - 3s 28ms/step - loss: 0.0980 - accuracy: 0.9736 - val_loss: 0.0767 - val_accuracy: 0.9805 - lr: 0.0010\n",
      "Epoch 6/20\n",
      "96/96 [==============================] - 3s 26ms/step - loss: 0.0724 - accuracy: 0.9818 - val_loss: 0.1510 - val_accuracy: 0.9414 - lr: 0.0010\n",
      "Epoch 7/20\n",
      "96/96 [==============================] - 2s 24ms/step - loss: 0.0670 - accuracy: 0.9821 - val_loss: 0.0389 - val_accuracy: 0.9909 - lr: 0.0010\n",
      "Epoch 8/20\n",
      "96/96 [==============================] - 2s 24ms/step - loss: 0.0450 - accuracy: 0.9892 - val_loss: 0.0282 - val_accuracy: 0.9948 - lr: 0.0010\n",
      "Epoch 9/20\n",
      "96/96 [==============================] - 2s 24ms/step - loss: 0.0685 - accuracy: 0.9821 - val_loss: 0.1702 - val_accuracy: 0.9570 - lr: 0.0010\n",
      "Epoch 10/20\n",
      "96/96 [==============================] - 2s 25ms/step - loss: 0.0579 - accuracy: 0.9850 - val_loss: 0.0787 - val_accuracy: 0.9740 - lr: 0.0010\n",
      "Epoch 11/20\n",
      "96/96 [==============================] - 2s 25ms/step - loss: 0.0291 - accuracy: 0.9925 - val_loss: 0.0183 - val_accuracy: 0.9961 - lr: 2.0000e-04\n",
      "Epoch 12/20\n",
      "96/96 [==============================] - 3s 27ms/step - loss: 0.0211 - accuracy: 0.9954 - val_loss: 0.0181 - val_accuracy: 0.9961 - lr: 2.0000e-04\n",
      "Epoch 13/20\n",
      "96/96 [==============================] - 3s 28ms/step - loss: 0.0201 - accuracy: 0.9958 - val_loss: 0.0151 - val_accuracy: 0.9974 - lr: 2.0000e-04\n",
      "Epoch 14/20\n",
      "96/96 [==============================] - 2s 25ms/step - loss: 0.0188 - accuracy: 0.9958 - val_loss: 0.0174 - val_accuracy: 0.9948 - lr: 2.0000e-04\n",
      "Epoch 15/20\n",
      "96/96 [==============================] - 2s 24ms/step - loss: 0.0186 - accuracy: 0.9958 - val_loss: 0.0153 - val_accuracy: 0.9974 - lr: 2.0000e-04\n",
      "Epoch 16/20\n",
      "96/96 [==============================] - 3s 27ms/step - loss: 0.0171 - accuracy: 0.9971 - val_loss: 0.0143 - val_accuracy: 0.9987 - lr: 1.0000e-04\n",
      "Epoch 17/20\n",
      "96/96 [==============================] - 2s 23ms/step - loss: 0.0166 - accuracy: 0.9964 - val_loss: 0.0143 - val_accuracy: 0.9961 - lr: 1.0000e-04\n",
      "Epoch 18/20\n",
      "96/96 [==============================] - 2s 26ms/step - loss: 0.0165 - accuracy: 0.9964 - val_loss: 0.0142 - val_accuracy: 0.9974 - lr: 1.0000e-04\n",
      "Epoch 19/20\n",
      "96/96 [==============================] - 3s 29ms/step - loss: 0.0161 - accuracy: 0.9971 - val_loss: 0.0143 - val_accuracy: 0.9974 - lr: 1.0000e-04\n",
      "Epoch 20/20\n",
      "96/96 [==============================] - 2s 26ms/step - loss: 0.0157 - accuracy: 0.9967 - val_loss: 0.0131 - val_accuracy: 0.9961 - lr: 1.0000e-04\n",
      "Model: \"sequential_1\"\n",
      "_________________________________________________________________\n",
      " Layer (type)                Output Shape              Param #   \n",
      "=================================================================\n",
      " lstm_1 (LSTM)               (None, 64)                17152     \n",
      "                                                                 \n",
      " dense_2 (Dense)             (None, 32)                2080      \n",
      "                                                                 \n",
      " dense_3 (Dense)             (None, 16)                528       \n",
      "                                                                 \n",
      "=================================================================\n",
      "Total params: 19,760\n",
      "Trainable params: 19,760\n",
      "Non-trainable params: 0\n",
      "_________________________________________________________________\n"
     ]
    }
   ],
   "source": [
    "model_64_unit, history_64_unit = define_and_train_model(labels, X_train, X_test, y_train, y_test, 64)"
   ]
  },
  {
   "cell_type": "code",
   "execution_count": 9,
   "id": "b9d45ca3",
   "metadata": {},
   "outputs": [
    {
     "name": "stdout",
     "output_type": "stream",
     "text": [
      "Epoch 1/20\n",
      "96/96 [==============================] - 7s 33ms/step - loss: 2.2384 - accuracy: 0.3571 - val_loss: 1.4386 - val_accuracy: 0.6016 - lr: 0.0010\n",
      "Epoch 2/20\n",
      "96/96 [==============================] - 2s 22ms/step - loss: 0.8247 - accuracy: 0.7732 - val_loss: 0.4018 - val_accuracy: 0.9049 - lr: 0.0010\n",
      "Epoch 3/20\n",
      "96/96 [==============================] - 2s 23ms/step - loss: 0.2941 - accuracy: 0.9273 - val_loss: 0.2015 - val_accuracy: 0.9518 - lr: 0.0010\n",
      "Epoch 4/20\n",
      "96/96 [==============================] - 2s 24ms/step - loss: 0.1340 - accuracy: 0.9717 - val_loss: 0.0682 - val_accuracy: 0.9909 - lr: 0.0010\n",
      "Epoch 5/20\n",
      "96/96 [==============================] - 2s 23ms/step - loss: 0.0764 - accuracy: 0.9840 - val_loss: 0.0602 - val_accuracy: 0.9870 - lr: 0.0010\n",
      "Epoch 6/20\n",
      "96/96 [==============================] - 2s 23ms/step - loss: 0.0764 - accuracy: 0.9834 - val_loss: 0.0317 - val_accuracy: 0.9948 - lr: 0.0010\n",
      "Epoch 7/20\n",
      "96/96 [==============================] - 2s 22ms/step - loss: 0.0634 - accuracy: 0.9857 - val_loss: 0.0412 - val_accuracy: 0.9883 - lr: 0.0010\n",
      "Epoch 8/20\n",
      "96/96 [==============================] - 2s 24ms/step - loss: 0.0408 - accuracy: 0.9915 - val_loss: 0.0383 - val_accuracy: 0.9883 - lr: 0.0010\n",
      "Epoch 9/20\n",
      "96/96 [==============================] - 2s 26ms/step - loss: 0.0283 - accuracy: 0.9954 - val_loss: 0.0213 - val_accuracy: 0.9935 - lr: 2.0000e-04\n",
      "Epoch 10/20\n",
      "96/96 [==============================] - 2s 23ms/step - loss: 0.0237 - accuracy: 0.9964 - val_loss: 0.0214 - val_accuracy: 0.9948 - lr: 2.0000e-04\n",
      "Epoch 11/20\n",
      "96/96 [==============================] - 2s 22ms/step - loss: 0.0227 - accuracy: 0.9967 - val_loss: 0.0172 - val_accuracy: 0.9961 - lr: 2.0000e-04\n",
      "Epoch 12/20\n",
      "96/96 [==============================] - 2s 25ms/step - loss: 0.0208 - accuracy: 0.9977 - val_loss: 0.0148 - val_accuracy: 0.9987 - lr: 2.0000e-04\n",
      "Epoch 13/20\n",
      "96/96 [==============================] - 2s 25ms/step - loss: 0.0200 - accuracy: 0.9974 - val_loss: 0.0145 - val_accuracy: 0.9987 - lr: 2.0000e-04\n",
      "Epoch 14/20\n",
      "96/96 [==============================] - 2s 21ms/step - loss: 0.0190 - accuracy: 0.9967 - val_loss: 0.0160 - val_accuracy: 0.9961 - lr: 2.0000e-04\n",
      "Epoch 15/20\n",
      "96/96 [==============================] - 2s 23ms/step - loss: 0.0194 - accuracy: 0.9967 - val_loss: 0.0124 - val_accuracy: 0.9987 - lr: 2.0000e-04\n",
      "Epoch 16/20\n",
      "96/96 [==============================] - 2s 21ms/step - loss: 0.0177 - accuracy: 0.9977 - val_loss: 0.0124 - val_accuracy: 0.9987 - lr: 2.0000e-04\n",
      "Epoch 17/20\n",
      "96/96 [==============================] - 2s 24ms/step - loss: 0.0172 - accuracy: 0.9980 - val_loss: 0.0141 - val_accuracy: 0.9961 - lr: 2.0000e-04\n",
      "Epoch 18/20\n",
      "96/96 [==============================] - 2s 22ms/step - loss: 0.0161 - accuracy: 0.9977 - val_loss: 0.0127 - val_accuracy: 0.9974 - lr: 1.0000e-04\n",
      "Epoch 19/20\n",
      "96/96 [==============================] - 2s 24ms/step - loss: 0.0154 - accuracy: 0.9980 - val_loss: 0.0137 - val_accuracy: 0.9948 - lr: 1.0000e-04\n",
      "Model: \"sequential_2\"\n",
      "_________________________________________________________________\n",
      " Layer (type)                Output Shape              Param #   \n",
      "=================================================================\n",
      " lstm_2 (LSTM)               (None, 32)                4480      \n",
      "                                                                 \n",
      " dense_4 (Dense)             (None, 32)                1056      \n",
      "                                                                 \n",
      " dense_5 (Dense)             (None, 16)                528       \n",
      "                                                                 \n",
      "=================================================================\n",
      "Total params: 6,064\n",
      "Trainable params: 6,064\n",
      "Non-trainable params: 0\n",
      "_________________________________________________________________\n"
     ]
    }
   ],
   "source": [
    "model_32_unit, history_32_unit = define_and_train_model(labels, X_train, X_test, y_train, y_test, 32)"
   ]
  },
  {
   "cell_type": "code",
   "execution_count": 10,
   "id": "b282ae7b",
   "metadata": {},
   "outputs": [
    {
     "name": "stdout",
     "output_type": "stream",
     "text": [
      "Epoch 1/20\n",
      "96/96 [==============================] - 8s 39ms/step - loss: 2.4810 - accuracy: 0.1711 - val_loss: 2.0720 - val_accuracy: 0.2292 - lr: 0.0010\n",
      "Epoch 2/20\n",
      "96/96 [==============================] - 2s 23ms/step - loss: 1.5902 - accuracy: 0.4780 - val_loss: 1.1860 - val_accuracy: 0.6589 - lr: 0.0010\n",
      "Epoch 3/20\n",
      "96/96 [==============================] - 2s 22ms/step - loss: 0.8942 - accuracy: 0.7638 - val_loss: 0.6391 - val_accuracy: 0.8372 - lr: 0.0010\n",
      "Epoch 4/20\n",
      "96/96 [==============================] - 2s 21ms/step - loss: 0.5326 - accuracy: 0.8400 - val_loss: 0.4133 - val_accuracy: 0.8685 - lr: 0.0010\n",
      "Epoch 5/20\n",
      "96/96 [==============================] - 2s 19ms/step - loss: 0.3756 - accuracy: 0.8866 - val_loss: 0.3075 - val_accuracy: 0.9154 - lr: 0.0010\n",
      "Epoch 6/20\n",
      "96/96 [==============================] - 2s 18ms/step - loss: 0.2919 - accuracy: 0.9231 - val_loss: 0.2340 - val_accuracy: 0.9518 - lr: 0.0010\n",
      "Epoch 7/20\n",
      "96/96 [==============================] - 2s 18ms/step - loss: 0.2170 - accuracy: 0.9498 - val_loss: 0.1873 - val_accuracy: 0.9557 - lr: 0.0010\n",
      "Epoch 8/20\n",
      "96/96 [==============================] - 2s 18ms/step - loss: 0.1527 - accuracy: 0.9681 - val_loss: 0.1250 - val_accuracy: 0.9727 - lr: 0.0010\n",
      "Epoch 9/20\n",
      "96/96 [==============================] - 2s 19ms/step - loss: 0.1149 - accuracy: 0.9775 - val_loss: 0.1123 - val_accuracy: 0.9714 - lr: 0.0010\n",
      "Epoch 10/20\n",
      "96/96 [==============================] - 2s 19ms/step - loss: 0.1032 - accuracy: 0.9785 - val_loss: 0.0803 - val_accuracy: 0.9818 - lr: 0.0010\n",
      "Epoch 11/20\n",
      "96/96 [==============================] - 2s 20ms/step - loss: 0.0762 - accuracy: 0.9866 - val_loss: 0.0736 - val_accuracy: 0.9818 - lr: 0.0010\n",
      "Epoch 12/20\n",
      "96/96 [==============================] - 2s 21ms/step - loss: 0.0622 - accuracy: 0.9883 - val_loss: 0.0537 - val_accuracy: 0.9896 - lr: 0.0010\n",
      "Epoch 13/20\n",
      "96/96 [==============================] - 2s 20ms/step - loss: 0.0616 - accuracy: 0.9873 - val_loss: 0.0643 - val_accuracy: 0.9831 - lr: 0.0010\n",
      "Epoch 14/20\n",
      "96/96 [==============================] - 2s 19ms/step - loss: 0.0560 - accuracy: 0.9879 - val_loss: 0.0936 - val_accuracy: 0.9674 - lr: 0.0010\n",
      "Epoch 15/20\n",
      "96/96 [==============================] - 2s 21ms/step - loss: 0.0480 - accuracy: 0.9892 - val_loss: 0.0516 - val_accuracy: 0.9857 - lr: 2.0000e-04\n",
      "Epoch 16/20\n",
      "96/96 [==============================] - 2s 22ms/step - loss: 0.0407 - accuracy: 0.9919 - val_loss: 0.0489 - val_accuracy: 0.9857 - lr: 2.0000e-04\n",
      "Epoch 17/20\n",
      "96/96 [==============================] - 2s 21ms/step - loss: 0.0397 - accuracy: 0.9925 - val_loss: 0.0455 - val_accuracy: 0.9857 - lr: 2.0000e-04\n",
      "Epoch 18/20\n",
      "96/96 [==============================] - 2s 20ms/step - loss: 0.0387 - accuracy: 0.9928 - val_loss: 0.0444 - val_accuracy: 0.9883 - lr: 2.0000e-04\n",
      "Epoch 19/20\n",
      "96/96 [==============================] - 2s 23ms/step - loss: 0.0364 - accuracy: 0.9935 - val_loss: 0.0442 - val_accuracy: 0.9883 - lr: 2.0000e-04\n",
      "Epoch 20/20\n",
      "96/96 [==============================] - 2s 23ms/step - loss: 0.0358 - accuracy: 0.9928 - val_loss: 0.0468 - val_accuracy: 0.9883 - lr: 2.0000e-04\n",
      "Model: \"sequential_3\"\n",
      "_________________________________________________________________\n",
      " Layer (type)                Output Shape              Param #   \n",
      "=================================================================\n",
      " lstm_3 (LSTM)               (None, 16)                1216      \n",
      "                                                                 \n",
      " dense_6 (Dense)             (None, 32)                544       \n",
      "                                                                 \n",
      " dense_7 (Dense)             (None, 16)                528       \n",
      "                                                                 \n",
      "=================================================================\n",
      "Total params: 2,288\n",
      "Trainable params: 2,288\n",
      "Non-trainable params: 0\n",
      "_________________________________________________________________\n"
     ]
    }
   ],
   "source": [
    "model_16_unit, history_16_unit = define_and_train_model(labels, X_train, X_test, y_train, y_test, 16)"
   ]
  },
  {
   "cell_type": "code",
   "execution_count": 11,
   "id": "93df2e53",
   "metadata": {},
   "outputs": [
    {
     "name": "stdout",
     "output_type": "stream",
     "text": [
      "Epoch 1/20\n",
      "96/96 [==============================] - 7s 31ms/step - loss: 2.6027 - accuracy: 0.1720 - val_loss: 2.3962 - val_accuracy: 0.3112 - lr: 0.0010\n",
      "Epoch 2/20\n",
      "96/96 [==============================] - 2s 24ms/step - loss: 2.0198 - accuracy: 0.4513 - val_loss: 1.6261 - val_accuracy: 0.5299 - lr: 0.0010\n",
      "Epoch 3/20\n",
      "96/96 [==============================] - 2s 24ms/step - loss: 1.3185 - accuracy: 0.6468 - val_loss: 1.0444 - val_accuracy: 0.6953 - lr: 0.0010\n",
      "Epoch 4/20\n",
      "96/96 [==============================] - 2s 25ms/step - loss: 0.8889 - accuracy: 0.7344 - val_loss: 0.7270 - val_accuracy: 0.7526 - lr: 0.0010\n",
      "Epoch 5/20\n",
      "96/96 [==============================] - 2s 23ms/step - loss: 0.6551 - accuracy: 0.7928 - val_loss: 0.5526 - val_accuracy: 0.7865 - lr: 0.0010\n",
      "Epoch 6/20\n",
      "96/96 [==============================] - 2s 22ms/step - loss: 0.5231 - accuracy: 0.8244 - val_loss: 0.4626 - val_accuracy: 0.8568 - lr: 0.0010\n",
      "Epoch 7/20\n",
      "96/96 [==============================] - 3s 32ms/step - loss: 0.4440 - accuracy: 0.8488 - val_loss: 0.3901 - val_accuracy: 0.8294 - lr: 0.0010\n",
      "Epoch 8/20\n",
      "96/96 [==============================] - 3s 30ms/step - loss: 0.3783 - accuracy: 0.8749 - val_loss: 0.3445 - val_accuracy: 0.8932 - lr: 0.0010\n",
      "Epoch 9/20\n",
      "96/96 [==============================] - 2s 24ms/step - loss: 0.3224 - accuracy: 0.8902 - val_loss: 0.2816 - val_accuracy: 0.9310 - lr: 0.0010\n",
      "Epoch 10/20\n",
      "96/96 [==============================] - 2s 25ms/step - loss: 0.2759 - accuracy: 0.9280 - val_loss: 0.2579 - val_accuracy: 0.9076 - lr: 0.0010\n",
      "Epoch 11/20\n",
      "96/96 [==============================] - 3s 27ms/step - loss: 0.2410 - accuracy: 0.9228 - val_loss: 0.2292 - val_accuracy: 0.9297 - lr: 0.0010\n",
      "Epoch 12/20\n",
      "96/96 [==============================] - 2s 23ms/step - loss: 0.2167 - accuracy: 0.9339 - val_loss: 0.2100 - val_accuracy: 0.9401 - lr: 0.0010\n",
      "Epoch 13/20\n",
      "96/96 [==============================] - 3s 29ms/step - loss: 0.1960 - accuracy: 0.9345 - val_loss: 0.1733 - val_accuracy: 0.9466 - lr: 0.0010\n",
      "Epoch 14/20\n",
      "96/96 [==============================] - 2s 23ms/step - loss: 0.1856 - accuracy: 0.9355 - val_loss: 0.1790 - val_accuracy: 0.9427 - lr: 0.0010\n",
      "Epoch 15/20\n",
      "96/96 [==============================] - 2s 24ms/step - loss: 0.1734 - accuracy: 0.9384 - val_loss: 0.1562 - val_accuracy: 0.9401 - lr: 0.0010\n",
      "Epoch 16/20\n",
      "96/96 [==============================] - 2s 22ms/step - loss: 0.1632 - accuracy: 0.9384 - val_loss: 0.1528 - val_accuracy: 0.9466 - lr: 0.0010\n",
      "Epoch 17/20\n",
      "96/96 [==============================] - 2s 22ms/step - loss: 0.1559 - accuracy: 0.9436 - val_loss: 0.1612 - val_accuracy: 0.9505 - lr: 0.0010\n",
      "Epoch 18/20\n",
      "96/96 [==============================] - 2s 20ms/step - loss: 0.1473 - accuracy: 0.9469 - val_loss: 0.1452 - val_accuracy: 0.9531 - lr: 0.0010\n",
      "Epoch 19/20\n",
      "96/96 [==============================] - 2s 24ms/step - loss: 0.1382 - accuracy: 0.9537 - val_loss: 0.1300 - val_accuracy: 0.9661 - lr: 0.0010\n",
      "Epoch 20/20\n",
      "96/96 [==============================] - 2s 21ms/step - loss: 0.1340 - accuracy: 0.9593 - val_loss: 0.1446 - val_accuracy: 0.9583 - lr: 0.0010\n",
      "Model: \"sequential_4\"\n",
      "_________________________________________________________________\n",
      " Layer (type)                Output Shape              Param #   \n",
      "=================================================================\n",
      " lstm_4 (LSTM)               (None, 8)                 352       \n",
      "                                                                 \n",
      " dense_8 (Dense)             (None, 32)                288       \n",
      "                                                                 \n",
      " dense_9 (Dense)             (None, 16)                528       \n",
      "                                                                 \n",
      "=================================================================\n",
      "Total params: 1,168\n",
      "Trainable params: 1,168\n",
      "Non-trainable params: 0\n",
      "_________________________________________________________________\n"
     ]
    }
   ],
   "source": [
    "model_8_unit, history_8_unit = define_and_train_model(labels, X_train, X_test, y_train, y_test, 8)"
   ]
  },
  {
   "cell_type": "code",
   "execution_count": 15,
   "id": "65f4bc20-9790-48b0-a76d-1577906d43cb",
   "metadata": {
    "tags": []
   },
   "outputs": [
    {
     "data": {
      "image/png": "[encoded data removed]",
      "text/plain": [
       "<Figure size 1500x1000 with 4 Axes>"
      ]
     },
     "metadata": {},
     "output_type": "display_data"
    }
   ],
   "source": [
    "def visualisation_histories(histories):\n",
    "    fig, axs = plt.subplots(2, 2, figsize=(15, 10))\n",
    "    colors = [\"red\", \"orange\", \"yellow\", \"green\", \"blue\"]\n",
    "    for history in histories:\n",
    "        \n",
    "        index = histories.index(history) # get index of an element: https://www.geeksforgeeks.org/python-list-index/\n",
    "        \n",
    "        loss = history.history['loss']\n",
    "        val_loss = history.history['val_loss']\n",
    "        accuracy = history.history['accuracy']\n",
    "        val_accuracy = history.history['val_accuracy']        \n",
    "        \n",
    "        axs[0, 0].plot(loss, color=colors[index]) \n",
    "        axs[0, 1].plot(val_loss, '--', color=colors[index])\n",
    "        axs[1, 0].plot(accuracy, color=colors[index], alpha=0.5)\n",
    "        axs[1, 1].plot(val_accuracy, '--', color=colors[index], alpha=0.5)\n",
    "        \n",
    "        axs[0, 0].set_title(\"Loss\")\n",
    "        axs[0, 1].set_title(\"Validation Loss\")\n",
    "        axs[1, 0].set_title(\"Accuracy\")\n",
    "        axs[1, 1].set_title(\"Validation Accuracy\")\n",
    "        \n",
    "visualisation_histories([history_128_unit, history_64_unit, history_32_unit, history_16_unit, history_8_unit])"
   ]
  },
  {
   "cell_type": "code",
   "execution_count": 22,
   "id": "bb1ad0d2-ee09-42b2-9125-cbe798508d4d",
   "metadata": {
    "tags": []
   },
   "outputs": [],
   "source": [
    "def evaluate_models(models):\n",
    "    for model in models:\n",
    "        score = model.evaluate(X_test, y_test, verbose=0)\n"
   ]
  }
 ],
 "metadata": {
  "kernelspec": {
   "display_name": "Python 3 (ipykernel)",
   "language": "python",
   "name": "python3"
  },
  "language_info": {
   "codemirror_mode": {
    "name": "ipython",
    "version": 3
   },
   "file_extension": ".py",
   "mimetype": "text/x-python",
   "name": "python",
   "nbconvert_exporter": "python",
   "pygments_lexer": "ipython3",
   "version": "3.11.3"
  }
 },
 "nbformat": 4,
 "nbformat_minor": 5
}
